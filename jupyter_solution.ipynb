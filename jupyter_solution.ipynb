{
 "cells": [
  {
   "cell_type": "code",
   "execution_count": 254,
   "metadata": {},
   "outputs": [],
   "source": [
    "import os \n",
    "from pyspark.sql import SparkSession\n",
    "import pandas as pd\n",
    "from pyspark.sql import functions as F\n",
    "from pyspark.sql.window import Window\n",
    "from pyspark.sql.functions import to_timestamp\n",
    "from pyspark.sql.functions import lit\n",
    "from datetime import datetime"
   ]
  },
  {
   "cell_type": "markdown",
   "metadata": {},
   "source": [
    "<h2> Start Spark Session </h2>"
   ]
  },
  {
   "cell_type": "code",
   "execution_count": 23,
   "metadata": {},
   "outputs": [],
   "source": [
    "spark = SparkSession.builder.appName(\"Challenge\").master(\"local\").getOrCreate()"
   ]
  },
  {
   "cell_type": "markdown",
   "metadata": {},
   "source": [
    "<h2>Load files</h2>"
   ]
  },
  {
   "cell_type": "code",
   "execution_count": 258,
   "metadata": {},
   "outputs": [],
   "source": [
    "wti_df = spark.createDataFrame(pd.read_excel(os.getcwd()+'/Files/wti-daily_csv.xlsx'))\n",
    "brent_df = spark.createDataFrame(pd.read_excel(os.getcwd()+'/Files/brent-daily_csv.xlsx'))"
   ]
  },
  {
   "cell_type": "markdown",
   "metadata": {},
   "source": [
    "<h2>Filter dates</h3>"
   ]
  },
  {
   "cell_type": "code",
   "execution_count": 259,
   "metadata": {},
   "outputs": [],
   "source": [
    "wti_df = wti_df.filter(wti_df.Date > '2000-01-01')\n",
    "brent_df = brent_df.filter(brent_df.Date > '2000-01-01')"
   ]
  },
  {
   "cell_type": "markdown",
   "metadata": {},
   "source": [
    "<h2>Moving average</h2>"
   ]
  },
  {
   "cell_type": "code",
   "execution_count": 260,
   "metadata": {},
   "outputs": [],
   "source": [
    "days = lambda i: i * 86400\n",
    "#Create 7 day window\n",
    "w = (Window.orderBy(F.col(\"Date\").cast('long')).rangeBetween(-days(7), 0))\n",
    "wti_df = wti_df.withColumn('moving_average', F.avg(\"Price\").over(w))\n",
    "brent_df = brent_df.withColumn('moving_average', F.avg(\"Price\").over(w))"
   ]
  },
  {
   "cell_type": "markdown",
   "metadata": {},
   "source": [
    "<h2>Create Dataframe </h2>"
   ]
  },
  {
   "cell_type": "code",
   "execution_count": 261,
   "metadata": {},
   "outputs": [],
   "source": [
    "wti_rdd = wti_df.select(\"moving_average\").rdd.map(lambda l : round(l[0],4))\n",
    "brent_rdd = brent_df.select(\"moving_average\").rdd.map(lambda l : round(l[0],4))\n",
    "\n",
    "date_wti = wti_df.select(\"Date\").rdd.map(lambda l : l[0])\n",
    "date_brent = brent_df.select(\"Date\").rdd.map(lambda l : l[0])\n",
    "\n",
    "#Append date, moving average and type to df\n",
    "wti = spark.createDataFrame(date_wti.zip(wti_rdd))\\\n",
    "    .toDF(\"Date\",\"moving_average\")\\\n",
    "    .withColumn(\"oil_type\", lit('WTI'))\n",
    "\n",
    "brent = spark.createDataFrame(date_brent.zip(brent_rdd))\\\n",
    "    .toDF(\"Date\",\"moving_average\")\\\n",
    "    .withColumn(\"oil_type\", lit('Brent'))"
   ]
  },
  {
   "cell_type": "markdown",
   "metadata": {},
   "source": [
    "<h2>Export file </h2>"
   ]
  },
  {
   "cell_type": "markdown",
   "metadata": {},
   "source": [
    "<p>Parquet format bring efficiency compared to csv, aggregation queries are less time consuming and provide savings in cloud storage </p>"
   ]
  },
  {
   "cell_type": "code",
   "execution_count": 262,
   "metadata": {},
   "outputs": [],
   "source": [
    "oil_df = wti.union(brent).sort(\"Date\")\n",
    "oil_df.write.parquet(os.getcwd()+'/moving_average_oil_type.parquet')"
   ]
  },
  {
   "cell_type": "code",
   "execution_count": null,
   "metadata": {},
   "outputs": [],
   "source": [
    "spark.stop()"
   ]
  },
  {
   "cell_type": "markdown",
   "metadata": {},
   "source": [
    "<h2>Read File</h2>"
   ]
  },
  {
   "cell_type": "code",
   "execution_count": 263,
   "metadata": {},
   "outputs": [
    {
     "data": {
      "text/html": [
       "<div>\n",
       "<style scoped>\n",
       "    .dataframe tbody tr th:only-of-type {\n",
       "        vertical-align: middle;\n",
       "    }\n",
       "\n",
       "    .dataframe tbody tr th {\n",
       "        vertical-align: top;\n",
       "    }\n",
       "\n",
       "    .dataframe thead th {\n",
       "        text-align: right;\n",
       "    }\n",
       "</style>\n",
       "<table border=\"1\" class=\"dataframe\">\n",
       "  <thead>\n",
       "    <tr style=\"text-align: right;\">\n",
       "      <th></th>\n",
       "      <th>Date</th>\n",
       "      <th>moving_average</th>\n",
       "      <th>oil_type</th>\n",
       "    </tr>\n",
       "  </thead>\n",
       "  <tbody>\n",
       "    <tr>\n",
       "      <th>0</th>\n",
       "      <td>2000-01-04 06:00:00</td>\n",
       "      <td>25.5600</td>\n",
       "      <td>WTI</td>\n",
       "    </tr>\n",
       "    <tr>\n",
       "      <th>1</th>\n",
       "      <td>2000-01-04 06:00:00</td>\n",
       "      <td>23.9500</td>\n",
       "      <td>Brent</td>\n",
       "    </tr>\n",
       "    <tr>\n",
       "      <th>2</th>\n",
       "      <td>2000-01-05 06:00:00</td>\n",
       "      <td>25.1050</td>\n",
       "      <td>WTI</td>\n",
       "    </tr>\n",
       "    <tr>\n",
       "      <th>3</th>\n",
       "      <td>2000-01-05 06:00:00</td>\n",
       "      <td>23.8350</td>\n",
       "      <td>Brent</td>\n",
       "    </tr>\n",
       "    <tr>\n",
       "      <th>4</th>\n",
       "      <td>2000-01-06 06:00:00</td>\n",
       "      <td>25.0000</td>\n",
       "      <td>WTI</td>\n",
       "    </tr>\n",
       "    <tr>\n",
       "      <th>...</th>\n",
       "      <td>...</td>\n",
       "      <td>...</td>\n",
       "      <td>...</td>\n",
       "    </tr>\n",
       "    <tr>\n",
       "      <th>10431</th>\n",
       "      <td>2020-08-27 05:00:00</td>\n",
       "      <td>42.7733</td>\n",
       "      <td>WTI</td>\n",
       "    </tr>\n",
       "    <tr>\n",
       "      <th>10432</th>\n",
       "      <td>2020-08-27 05:00:00</td>\n",
       "      <td>44.9283</td>\n",
       "      <td>Brent</td>\n",
       "    </tr>\n",
       "    <tr>\n",
       "      <th>10433</th>\n",
       "      <td>2020-08-28 05:00:00</td>\n",
       "      <td>42.8300</td>\n",
       "      <td>WTI</td>\n",
       "    </tr>\n",
       "    <tr>\n",
       "      <th>10434</th>\n",
       "      <td>2020-08-28 05:00:00</td>\n",
       "      <td>45.0383</td>\n",
       "      <td>Brent</td>\n",
       "    </tr>\n",
       "    <tr>\n",
       "      <th>10435</th>\n",
       "      <td>2020-08-31 05:00:00</td>\n",
       "      <td>42.8783</td>\n",
       "      <td>WTI</td>\n",
       "    </tr>\n",
       "  </tbody>\n",
       "</table>\n",
       "<p>10436 rows × 3 columns</p>\n",
       "</div>"
      ],
      "text/plain": [
       "                     Date  moving_average oil_type\n",
       "0     2000-01-04 06:00:00         25.5600      WTI\n",
       "1     2000-01-04 06:00:00         23.9500    Brent\n",
       "2     2000-01-05 06:00:00         25.1050      WTI\n",
       "3     2000-01-05 06:00:00         23.8350    Brent\n",
       "4     2000-01-06 06:00:00         25.0000      WTI\n",
       "...                   ...             ...      ...\n",
       "10431 2020-08-27 05:00:00         42.7733      WTI\n",
       "10432 2020-08-27 05:00:00         44.9283    Brent\n",
       "10433 2020-08-28 05:00:00         42.8300      WTI\n",
       "10434 2020-08-28 05:00:00         45.0383    Brent\n",
       "10435 2020-08-31 05:00:00         42.8783      WTI\n",
       "\n",
       "[10436 rows x 3 columns]"
      ]
     },
     "metadata": {},
     "output_type": "display_data"
    }
   ],
   "source": [
    "parDF=pd.read_parquet(os.getcwd()+'/moving_average_oil_type.parquet')\n",
    "display(parDF)"
   ]
  }
 ],
 "metadata": {
  "kernelspec": {
   "display_name": "Python 3",
   "language": "python",
   "name": "python3"
  },
  "language_info": {
   "codemirror_mode": {
    "name": "ipython",
    "version": 3
   },
   "file_extension": ".py",
   "mimetype": "text/x-python",
   "name": "python",
   "nbconvert_exporter": "python",
   "pygments_lexer": "ipython3",
   "version": "3.8.3"
  }
 },
 "nbformat": 4,
 "nbformat_minor": 4
}
